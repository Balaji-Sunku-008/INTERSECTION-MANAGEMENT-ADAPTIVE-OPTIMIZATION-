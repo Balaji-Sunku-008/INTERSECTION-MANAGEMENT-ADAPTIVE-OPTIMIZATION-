{
 "cells": [
  {
   "cell_type": "markdown",
   "id": "9c33664f",
   "metadata": {},
   "source": [
    "# INTERSECTION MANAGEMENT"
   ]
  },
  {
   "cell_type": "markdown",
   "id": "dc46be63",
   "metadata": {},
   "source": [
    "### Loading Libraries"
   ]
  },
  {
   "cell_type": "code",
   "execution_count": 1,
   "id": "ab5f0542",
   "metadata": {},
   "outputs": [],
   "source": [
    "import tkinter as tk\n",
    "from tkinter import ttk, filedialog\n",
    "from PIL import Image, ImageTk\n",
    "import cv2\n",
    "import numpy as np"
   ]
  },
  {
   "cell_type": "markdown",
   "id": "81fc9022",
   "metadata": {},
   "source": [
    "### Loading Dataset"
   ]
  },
  {
   "cell_type": "code",
   "execution_count": 2,
   "id": "59429e64",
   "metadata": {},
   "outputs": [],
   "source": [
    "net = cv2.dnn.readNet(\"yolov3.weights\", \"yolov3.cfg\")\n",
    "classes = []\n",
    "with open(\"coco.names\", \"r\") as f:\n",
    "    classes = [line.strip() for line in f.readlines()]\n",
    "\n",
    "layer_names = net.getLayerNames()\n",
    "output_layers = [layer_names[i - 1] for i in net.getUnconnectedOutLayers()]"
   ]
  },
  {
   "cell_type": "markdown",
   "id": "4a90d422",
   "metadata": {},
   "source": [
    "### Setting up GUI"
   ]
  },
  {
   "cell_type": "code",
   "execution_count": 3,
   "id": "30141347",
   "metadata": {},
   "outputs": [
    {
     "name": "stdout",
     "output_type": "stream",
     "text": [
      "Lane 1 Vehicle Density: 25\n",
      "Lane 2 Vehicle Density: 10\n",
      "Lane 3 Vehicle Density: 27\n",
      "Lane 4 Vehicle Density: 21\n",
      "Lane 1 - Image Path: C:/Users/Vishal V/Major Project/Mini Project/Untitled Folder 3/peak-hour-traffic.png, Vehicle Density: 25\n",
      "Lane 2 - Image Path: C:/Users/Vishal V/Major Project/Mini Project/Untitled Folder 3/traffic test 1.png, Vehicle Density: 10\n",
      "Lane 3 - Image Path: C:/Users/Vishal V/Major Project/Mini Project/Untitled Folder 3/trafficJamHyderabad-1.png, Vehicle Density: 27\n",
      "Lane 4 - Image Path: C:/Users/Vishal V/Major Project/Mini Project/Untitled Folder 3/Untitled-design-2023-09-16T190808.328.png, Vehicle Density: 21\n",
      "\n"
     ]
    },
    {
     "ename": "KeyboardInterrupt",
     "evalue": "",
     "output_type": "error",
     "traceback": [
      "\u001b[1;31m---------------------------------------------------------------------------\u001b[0m",
      "\u001b[1;31mKeyboardInterrupt\u001b[0m                         Traceback (most recent call last)",
      "Cell \u001b[1;32mIn[3], line 79\u001b[0m\n\u001b[0;32m     76\u001b[0m print_button \u001b[38;5;241m=\u001b[39m ttk\u001b[38;5;241m.\u001b[39mButton(root, text\u001b[38;5;241m=\u001b[39m\u001b[38;5;124m\"\u001b[39m\u001b[38;5;124mPrint Image Paths and Densities\u001b[39m\u001b[38;5;124m\"\u001b[39m, command\u001b[38;5;241m=\u001b[39mprint_image_paths_and_densities)\n\u001b[0;32m     77\u001b[0m print_button\u001b[38;5;241m.\u001b[39mgrid(row\u001b[38;5;241m=\u001b[39m\u001b[38;5;241m3\u001b[39m, column\u001b[38;5;241m=\u001b[39m\u001b[38;5;241m0\u001b[39m, columnspan\u001b[38;5;241m=\u001b[39m\u001b[38;5;241m4\u001b[39m, pady\u001b[38;5;241m=\u001b[39m\u001b[38;5;241m20\u001b[39m)\n\u001b[1;32m---> 79\u001b[0m root\u001b[38;5;241m.\u001b[39mmainloop()\n\u001b[0;32m     81\u001b[0m \u001b[38;5;28mprint\u001b[39m(\u001b[38;5;124m\"\u001b[39m\u001b[38;5;124mVehicle Densities Array:\u001b[39m\u001b[38;5;124m\"\u001b[39m, vehicle_densities)\n",
      "File \u001b[1;32m~\\anaconda3\\Lib\\tkinter\\__init__.py:1485\u001b[0m, in \u001b[0;36mMisc.mainloop\u001b[1;34m(self, n)\u001b[0m\n\u001b[0;32m   1483\u001b[0m \u001b[38;5;28;01mdef\u001b[39;00m \u001b[38;5;21mmainloop\u001b[39m(\u001b[38;5;28mself\u001b[39m, n\u001b[38;5;241m=\u001b[39m\u001b[38;5;241m0\u001b[39m):\n\u001b[0;32m   1484\u001b[0m \u001b[38;5;250m    \u001b[39m\u001b[38;5;124;03m\"\"\"Call the mainloop of Tk.\"\"\"\u001b[39;00m\n\u001b[1;32m-> 1485\u001b[0m     \u001b[38;5;28mself\u001b[39m\u001b[38;5;241m.\u001b[39mtk\u001b[38;5;241m.\u001b[39mmainloop(n)\n",
      "\u001b[1;31mKeyboardInterrupt\u001b[0m: "
     ]
    }
   ],
   "source": [
    "root = tk.Tk()\n",
    "root.title(\"Select Four Images\")\n",
    "root.geometry(\"800x400\")\n",
    "\n",
    "image_paths = [\"\", \"\", \"\", \"\"]\n",
    "vehicle_densities = [0, 0, 0, 0]\n",
    "\n",
    "def select_image(index):\n",
    "    file_path = filedialog.askopenfilename(\n",
    "        filetypes=[(\"Image files\", \"*.jpg *.jpeg *.png\")],\n",
    "        title=f\"Select Image {index + 1}\"\n",
    "    )\n",
    "    if file_path:\n",
    "        image_paths[index] = file_path\n",
    "        update_image_display(index, file_path)\n",
    "        vehicle_count = detect_vehicles(file_path)\n",
    "        vehicle_densities[index] = vehicle_count\n",
    "        print(f\"Lane {index + 1} Vehicle Density: {vehicle_count}\")\n",
    "\n",
    "def update_image_display(index, file_path):\n",
    "    img = Image.open(file_path)\n",
    "    img.thumbnail((150, 150))\n",
    "    img_tk = ImageTk.PhotoImage(img)\n",
    "    image_labels[index].config(image=img_tk)\n",
    "    image_labels[index].image = img_tk\n",
    "\n",
    "def detect_vehicles(image_path):\n",
    "    image = cv2.imread(image_path)\n",
    "    height, width, _ = image.shape\n",
    "\n",
    "    blob = cv2.dnn.blobFromImage(image, 0.00392, (416, 416), (0, 0, 0), True, crop=False)\n",
    "    net.setInput(blob)\n",
    "    outs = net.forward(output_layers)\n",
    "\n",
    "    class_ids = []\n",
    "    confidences = []\n",
    "    boxes = []\n",
    "    for out in outs:\n",
    "        for detection in out:\n",
    "            scores = detection[5:]\n",
    "            class_id = np.argmax(scores)\n",
    "            confidence = scores[class_id]\n",
    "            if confidence > 0.5 and class_id == 2:\n",
    "                center_x = int(detection[0] * width)\n",
    "                center_y = int(detection[1] * height)\n",
    "                w = int(detection[2] * width)\n",
    "                h = int(detection[3] * height)\n",
    "                x = int(center_x - w / 2)\n",
    "                y = int(center_y - h / 2)\n",
    "                boxes.append([x, y, w, h])\n",
    "                confidences.append(float(confidence))\n",
    "                class_ids.append(class_id)\n",
    "\n",
    "    indices = cv2.dnn.NMSBoxes(boxes, confidences, score_threshold=0.5, nms_threshold=0.4)\n",
    "\n",
    "    vehicle_count = len(indices)\n",
    "    return vehicle_count\n",
    "\n",
    "def print_image_paths_and_densities():\n",
    "    for i, path in enumerate(image_paths):\n",
    "        print(f\"Lane {i + 1} - Image Path: {path}, Vehicle Density: {vehicle_densities[i]}\")\n",
    "    print()\n",
    "\n",
    "image_labels = []\n",
    "for i in range(4):\n",
    "    label = tk.Label(root, text=f\"Image {i + 1}\", relief=\"solid\", width=20, height=10)\n",
    "    label.grid(row=1, column=i, padx=10, pady=10)\n",
    "    image_labels.append(label)\n",
    "\n",
    "buttons = []\n",
    "for i in range(4):\n",
    "    button = ttk.Button(root, text=f\"Select Image {i + 1}\", command=lambda idx=i: select_image(idx))\n",
    "    button.grid(row=2, column=i, padx=10, pady=10)\n",
    "    buttons.append(button)\n",
    "\n",
    "print_button = ttk.Button(root, text=\"Print Image Paths and Densities\", command=print_image_paths_and_densities)\n",
    "print_button.grid(row=3, column=0, columnspan=4, pady=20)\n",
    "\n",
    "root.mainloop()\n",
    "\n",
    "print(\"Vehicle Densities Array:\", vehicle_densities)"
   ]
  },
  {
   "cell_type": "markdown",
   "id": "deb7feb2",
   "metadata": {},
   "source": [
    "### Density Function Misc. Code"
   ]
  },
  {
   "cell_type": "code",
   "execution_count": 4,
   "id": "67f62810",
   "metadata": {},
   "outputs": [],
   "source": [
    "densities = vehicle_densities\n",
    "\n",
    "densities\n",
    "\n",
    "green_time = [0, 0, 0, 0]\n",
    "for i in range(len(densities)):\n",
    "    green_time[i] = 2 * densities[i]\n",
    "\n",
    "time = [0, 0, 0, 0]  # Initialize working times array\n",
    "wait_time = [0, 0, 0, 0]\n",
    "priority = [1, 0, 0, 0]\n",
    "\n",
    "max_green = 30\n",
    "max_wait = 80\n",
    "min_green = 20\n",
    "\n",
    "iteration = 0"
   ]
  },
  {
   "cell_type": "markdown",
   "id": "b28f9498",
   "metadata": {},
   "source": [
    "### Density Calculation and Iterations"
   ]
  },
  {
   "cell_type": "code",
   "execution_count": 5,
   "id": "a5f2eef7",
   "metadata": {},
   "outputs": [
    {
     "name": "stdout",
     "output_type": "stream",
     "text": [
      "Iteration 1\n",
      "Lanes status after processing lane 3:\n",
      "Lane 1: Density = 25, Green time = 50, Wait time = 30\n",
      "Lane 2: Density = 10, Green time = 20, Wait time = 30\n",
      "Lane 3: Density = 12, Green time = 24, Wait time = 0\n",
      "Lane 4: Density = 21, Green time = 42, Wait time = 30\n",
      "Iteration 2\n",
      "Lanes status after processing lane 1:\n",
      "Lane 1: Density = 10, Green time = 20, Wait time = 0\n",
      "Lane 2: Density = 10, Green time = 20, Wait time = 60\n",
      "Lane 3: Density = 12, Green time = 24, Wait time = 30\n",
      "Lane 4: Density = 21, Green time = 42, Wait time = 60\n",
      "Iteration 3\n",
      "Lanes status after processing lane 4:\n",
      "Lane 1: Density = 10, Green time = 20, Wait time = 30\n",
      "Lane 2: Density = 10, Green time = 20, Wait time = 90\n",
      "Lane 3: Density = 12, Green time = 24, Wait time = 60\n",
      "Lane 4: Density = 6, Green time = 12, Wait time = 0\n",
      "Iteration 4\n",
      "Lanes status after processing lane 2:\n",
      "Lane 1: Density = 10, Green time = 20, Wait time = 50\n",
      "Lane 2: Density = 0, Green time = 0, Wait time = 0\n",
      "Lane 3: Density = 12, Green time = 24, Wait time = 80\n",
      "Lane 4: Density = 6, Green time = 12, Wait time = 20\n",
      "Iteration 5\n",
      "Lanes status after processing lane 3:\n",
      "Lane 1: Density = 10, Green time = 20, Wait time = 74\n",
      "Lane 2: Density = 0, Green time = 0, Wait time = 24\n",
      "Lane 3: Density = 0, Green time = 0, Wait time = 0\n",
      "Lane 4: Density = 6, Green time = 12, Wait time = 44\n",
      "Iteration 6\n",
      "Lanes status after processing lane 1:\n",
      "Lane 1: Density = 0, Green time = 0, Wait time = 0\n",
      "Lane 2: Density = 0, Green time = 0, Wait time = 44\n",
      "Lane 3: Density = 0, Green time = 0, Wait time = 20\n",
      "Lane 4: Density = 6, Green time = 12, Wait time = 64\n",
      "Iteration 7\n",
      "Lanes status after processing lane 4:\n",
      "Lane 1: Density = 0, Green time = 0, Wait time = 20\n",
      "Lane 2: Density = 0, Green time = 0, Wait time = 64\n",
      "Lane 3: Density = 0, Green time = 0, Wait time = 40\n",
      "Lane 4: Density = 0, Green time = 0, Wait time = 0\n",
      "All lanes cleared.\n"
     ]
    }
   ],
   "source": [
    "while any(densities):  # Continue until all densities are cleared\n",
    "    iteration += 1\n",
    "    print(f\"Iteration {iteration}\")\n",
    "\n",
    "    for i in range(4):\n",
    "        if wait_time[i] > max_wait:\n",
    "            priority[i] = 10\n",
    "        else:\n",
    "            priority[i] = densities[i] if densities[i] > 0 else 0\n",
    "\n",
    "    if any(wait > max_wait for wait in wait_time):\n",
    "        high_priority_lane = wait_time.index(max(wait_time))\n",
    "    else:\n",
    "        max_priority = max(priority)\n",
    "        high_priority_lane = priority.index(max_priority)\n",
    "\n",
    "    actual_green_time = min(green_time[high_priority_lane], max_green)\n",
    "    actual_green_time = max(actual_green_time, min_green)\n",
    "\n",
    "    vehicles_passed = actual_green_time // 2\n",
    "    densities[high_priority_lane] = max(0, densities[high_priority_lane] - vehicles_passed)\n",
    "    green_time[high_priority_lane] = max(0, green_time[high_priority_lane] - actual_green_time)\n",
    "\n",
    "    for i in range(4):\n",
    "        if i == high_priority_lane:\n",
    "            wait_time[i] = 0\n",
    "        else:\n",
    "            wait_time[i] += actual_green_time\n",
    "\n",
    "    priority[high_priority_lane] = 0\n",
    "\n",
    "    print(f\"Lanes status after processing lane {high_priority_lane + 1}:\")\n",
    "    for k in range(4):\n",
    "        print(f\"Lane {k + 1}: Density = {densities[k]}, Green time = {green_time[k]}, Wait time = {wait_time[k]}\")\n",
    "\n",
    "    for i in range(4):\n",
    "        if densities[i] > 0:\n",
    "            priority[i] = densities[i]\n",
    "        else:\n",
    "            priority[i] = 0\n",
    "\n",
    "    if all(density == 0 for density in densities):\n",
    "        print(\"All lanes cleared.\")\n",
    "        break"
   ]
  },
  {
   "cell_type": "code",
   "execution_count": null,
   "id": "4e66b843",
   "metadata": {},
   "outputs": [],
   "source": []
  },
  {
   "cell_type": "code",
   "execution_count": null,
   "id": "b355d185",
   "metadata": {},
   "outputs": [],
   "source": []
  },
  {
   "cell_type": "code",
   "execution_count": null,
   "id": "86594d82",
   "metadata": {},
   "outputs": [],
   "source": []
  }
 ],
 "metadata": {
  "kernelspec": {
   "display_name": "Python 3 (ipykernel)",
   "language": "python",
   "name": "python3"
  },
  "language_info": {
   "codemirror_mode": {
    "name": "ipython",
    "version": 3
   },
   "file_extension": ".py",
   "mimetype": "text/x-python",
   "name": "python",
   "nbconvert_exporter": "python",
   "pygments_lexer": "ipython3",
   "version": "3.11.5"
  }
 },
 "nbformat": 4,
 "nbformat_minor": 5
}
